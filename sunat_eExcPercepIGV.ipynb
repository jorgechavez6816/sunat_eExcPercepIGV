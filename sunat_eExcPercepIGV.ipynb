{
 "cells": [
  {
   "cell_type": "code",
   "execution_count": 5,
   "metadata": {},
   "outputs": [],
   "source": [
    "#!pip install pyxlsb\n",
    "import pandas as pd\n",
    "\n",
    "url = 'http://www.sunat.gob.pe/orientacion/padrones/eExcPercepIGV/descargas/Listado_Marzo_2020.xlsb'\n",
    "df = pd.read_excel(url, engine='pyxlsb')    \n",
    "df.head()\n",
    "df.to_excel(\"C:\\\\Users\\\\Intel\\\\Documents\\\\Mis documentos IDEA\\\\Samples\\\\Archivos fuente.ILB\\\\Listado_Marzo_2020.xlsx\") \n"
   ]
  },
  {
   "cell_type": "code",
   "execution_count": null,
   "metadata": {},
   "outputs": [],
   "source": []
  }
 ],
 "metadata": {
  "kernelspec": {
   "display_name": "Python 3",
   "language": "python",
   "name": "python3"
  },
  "language_info": {
   "codemirror_mode": {
    "name": "ipython",
    "version": 3
   },
   "file_extension": ".py",
   "mimetype": "text/x-python",
   "name": "python",
   "nbconvert_exporter": "python",
   "pygments_lexer": "ipython3",
   "version": "3.7.6"
  }
 },
 "nbformat": 4,
 "nbformat_minor": 4
}
